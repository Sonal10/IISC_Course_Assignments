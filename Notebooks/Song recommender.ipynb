{
 "cells": [
  {
   "cell_type": "markdown",
   "metadata": {},
   "source": [
    "#Building a song recommender\n",
    "\n",
    "\n",
    "#Fire up GraphLab Create"
   ]
  },
  {
   "cell_type": "code",
   "execution_count": 1,
   "metadata": {
    "collapsed": false
   },
   "outputs": [],
   "source": [
    "import graphlab"
   ]
  },
  {
   "cell_type": "markdown",
   "metadata": {},
   "source": [
    "#Load music data"
   ]
  },
  {
   "cell_type": "code",
   "execution_count": 13,
   "metadata": {
    "collapsed": false
   },
   "outputs": [],
   "source": [
    "song_data = graphlab.SFrame('song_data.gl/')"
   ]
  },
  {
   "cell_type": "markdown",
   "metadata": {},
   "source": [
    "#Explore data\n",
    "\n",
    "Music data shows how many times a user listened to a song, as well as the details of the song."
   ]
  },
  {
   "cell_type": "code",
   "execution_count": 34,
   "metadata": {
    "collapsed": false
   },
   "outputs": [
    {
     "data": {
      "text/plain": [
       "dtype: str\n",
       "Rows: 1116609\n",
       "['Jack Johnson', 'Paco De Lucia', 'Kanye West', 'Jack Johnson', 'Foo Fighters', 'Héroes del Silencio', 'Lady GaGa', 'Foo Fighters', 'Harmonia', 'Thievery Corporation feat. Emiliana Torrini', 'Jack Johnson / Matt Costa / Zach Gill / Dan Lebowitz / Steve Adams', 'Puff Daddy', \"The B-52's\", 'John Mayer', 'Robert Johnson', 'The Lonely Island', 'Panic At The Disco', 'Kanye West', 'Foo Fighters', 'Fleet Foxes', 'Fleet Foxes', 'Jack Johnson / Paula Fuga', 'Andrew Bird', 'John Mayer', 'Angus & Julia Stone', 'Incubus', 'John Mayer', 'John Mayer', 'Jimmy Eat World', 'Jorge Drexler', 'Thievery Corporation', 'King Curtis', 'Band Of Horses', 'Incubus', 'Incubus', 'Foo Fighters', 'John Mayer', 'Fleet Foxes', 'Kings Of Leon', 'The String Cheese Incident', 'Fleet Foxes', 'John Mayer', 'Sublime', 'Jack Johnson', 'Jack Johnson', 'Sage Francis', 'Local Natives', 'Local Natives', 'Jack Johnson', 'Mogwai', 'Local Natives', 'Phoenix', 'Phoenix', 'Passion Pit', 'Young Jeezy', 'Octopus Project', 'Depeche Mode', 'Boys Night Out', 'Tommy James And The Shondells', 'Crowded House', 'Natiruts', 'Andrea Bocelli', \"Booker T. & The MG's\", 'Lesley Gore', 'The Who', 'Counting Crows', 'New Radicals', 'The Young Rascals', 'Young Bleed', 'Tom Petty And The Heartbreakers', '59 Times the Pain', 'Minnie Riperton', 'John Mayer', 'Jadakiss / Swizz Beatz / OJ Da Juiceman', 'LCD Soundsystem', 'Justin Bieber', 'Deadmau5', 'Eminem / Hailie Jade', 'John Waite', 'Kudai', 'Eminem', 'Leona Lewis', \"Destiny's Child\", 'Eminem', 'The Crests', 'Eminem', 'Salt-N-Pepa', 'Lady GaGa', 'Björk', 'Florence + The Machine', 'Daft Punk', 'Dwight Yoakam', 'Nirvana', 'Nirvana', 'Train', 'Barry Tuckwell/Academy of St Martin-in-the-Fields/Sir Neville Marriner', 'DAVE MATTHEWS BAND', 'Harmonia', 'Mae', 'Shinedown', ... ]"
      ]
     },
     "execution_count": 34,
     "metadata": {},
     "output_type": "execute_result"
    }
   ],
   "source": [
    "song_data['artist']"
   ]
  },
  {
   "cell_type": "markdown",
   "metadata": {},
   "source": [
    "##Showing the most popular songs in the dataset"
   ]
  },
  {
   "cell_type": "code",
   "execution_count": null,
   "metadata": {
    "collapsed": true
   },
   "outputs": [],
   "source": [
    "graphlab.canvas.set_target('ipynb')"
   ]
  },
  {
   "cell_type": "code",
   "execution_count": null,
   "metadata": {
    "collapsed": false
   },
   "outputs": [],
   "source": [
    "song_data['song'].show()"
   ]
  },
  {
   "cell_type": "code",
   "execution_count": null,
   "metadata": {
    "collapsed": false
   },
   "outputs": [],
   "source": [
    "len(song_data)"
   ]
  },
  {
   "cell_type": "markdown",
   "metadata": {},
   "source": [
    "##Count number of unique users in the dataset"
   ]
  },
  {
   "cell_type": "code",
   "execution_count": null,
   "metadata": {
    "collapsed": true
   },
   "outputs": [],
   "source": [
    "users = song_data['user_id'].unique()"
   ]
  },
  {
   "cell_type": "code",
   "execution_count": null,
   "metadata": {
    "collapsed": false
   },
   "outputs": [],
   "source": [
    "len(users)"
   ]
  },
  {
   "cell_type": "markdown",
   "metadata": {},
   "source": [
    "#Create a song recommender"
   ]
  },
  {
   "cell_type": "code",
   "execution_count": null,
   "metadata": {
    "collapsed": true
   },
   "outputs": [],
   "source": [
    "train_data,test_data = song_data.random_split(.8,seed=0)"
   ]
  },
  {
   "cell_type": "markdown",
   "metadata": {},
   "source": [
    "##Simple popularity-based recommender"
   ]
  },
  {
   "cell_type": "code",
   "execution_count": null,
   "metadata": {
    "collapsed": false
   },
   "outputs": [],
   "source": [
    "popularity_model = graphlab.popularity_recommender.create(train_data,\n",
    "                                                         user_id='user_id',\n",
    "                                                         item_id='song')"
   ]
  },
  {
   "cell_type": "markdown",
   "metadata": {},
   "source": [
    "###Use the popularity model to make some predictions\n",
    "\n",
    "A popularity model makes the same prediction for all users, so provides no personalization."
   ]
  },
  {
   "cell_type": "code",
   "execution_count": null,
   "metadata": {
    "collapsed": false
   },
   "outputs": [],
   "source": [
    "popularity_model.recommend(users=[users[0]])"
   ]
  },
  {
   "cell_type": "code",
   "execution_count": null,
   "metadata": {
    "collapsed": false
   },
   "outputs": [],
   "source": [
    "popularity_model.recommend(users=[users[1]])"
   ]
  },
  {
   "cell_type": "markdown",
   "metadata": {},
   "source": [
    "##Build a song recommender with personalization\n",
    "\n",
    "We now create a model that allows us to make personalized recommendations to each user. "
   ]
  },
  {
   "cell_type": "code",
   "execution_count": null,
   "metadata": {
    "collapsed": false
   },
   "outputs": [],
   "source": [
    "personalized_model = graphlab.item_similarity_recommender.create(train_data,\n",
    "                                                                user_id='user_id',\n",
    "                                                                item_id='song')"
   ]
  },
  {
   "cell_type": "markdown",
   "metadata": {},
   "source": [
    "###Applying the personalized model to make song recommendations\n",
    "\n",
    "As you can see, different users get different recommendations now."
   ]
  },
  {
   "cell_type": "code",
   "execution_count": null,
   "metadata": {
    "collapsed": false
   },
   "outputs": [],
   "source": [
    "personalized_model.recommend(users=[users[0]])"
   ]
  },
  {
   "cell_type": "code",
   "execution_count": null,
   "metadata": {
    "collapsed": false
   },
   "outputs": [],
   "source": [
    "personalized_model.recommend(users=[users[1]])"
   ]
  },
  {
   "cell_type": "markdown",
   "metadata": {},
   "source": [
    "###We can also apply the model to find similar songs to any song in the dataset"
   ]
  },
  {
   "cell_type": "code",
   "execution_count": null,
   "metadata": {
    "collapsed": false
   },
   "outputs": [],
   "source": [
    "personalized_model.get_similar_items(['With Or Without You - U2'])"
   ]
  },
  {
   "cell_type": "code",
   "execution_count": null,
   "metadata": {
    "collapsed": false
   },
   "outputs": [],
   "source": [
    "personalized_model.get_similar_items(['Chan Chan (Live) - Buena Vista Social Club'])"
   ]
  },
  {
   "cell_type": "markdown",
   "metadata": {},
   "source": [
    "#Quantitative comparison between the models\n",
    "\n",
    "We now formally compare the popularity and the personalized models using precision-recall curves. "
   ]
  },
  {
   "cell_type": "code",
   "execution_count": null,
   "metadata": {
    "collapsed": false
   },
   "outputs": [],
   "source": [
    "if graphlab.version[:3] >= \"1.6\":\n",
    "    model_performance = graphlab.compare(test_data, [popularity_model, personalized_model], user_sample=0.05)\n",
    "    graphlab.show_comparison(model_performance,[popularity_model, personalized_model])\n",
    "else:\n",
    "    %matplotlib inline\n",
    "    model_performance = graphlab.recommender.util.compare_models(test_data, [popularity_model, personalized_model], user_sample=.05)"
   ]
  },
  {
   "cell_type": "markdown",
   "metadata": {
    "collapsed": true
   },
   "source": [
    "The curve shows that the personalized model provides much better performance. "
   ]
  },
  {
   "cell_type": "code",
   "execution_count": 35,
   "metadata": {
    "collapsed": false
   },
   "outputs": [],
   "source": [
    "df1 = song_data[song_data['artist']=='Kings Of Leon']"
   ]
  },
  {
   "cell_type": "code",
   "execution_count": 36,
   "metadata": {
    "collapsed": false
   },
   "outputs": [
    {
     "data": {
      "text/plain": [
       "dtype: str\n",
       "Rows: 7373\n",
       "['18325842a941bc58449ee71d659a08d1c1bd2383', '046311081a8703bdee3be2e6d9da07ccdc135340', '62c4bf887b7b1e5cf6ab62723481099c7f98377e', '11e266d0d2d7a841bd1a2604b14cc05f4bcecd8e', '7e7a4eede58db53c0b4837b5b302843d845259e8', 'c46038495c5f7fe43b12c3cea012517998fd78a0', '751774a078c559b9abf6aceaec9062c4213a92ac', 'd6dbb0578fe5baf513cad07fbf07801f89fd9313', '64d4b02087e9433c4a82aeba087cd8967453afa1', '58fcc1ee8eb4bff5a9bedff6e7510f0167367c1a', '9232eeaa942af2ff3f3e2b90f996d3ad003e4b31', '24423ce2aa848fd563617d9b8a50c2c9fd1ebaac', '5264bce396b58ba18b13fa8bc692b9e13095b238', '0b8078451a33f49730e6a6b58e780ed5031a4a87', '3930e92959235c4adb586ffc8ed5429b9a304656', '7fa506764e36a8221b8de5f419f297626963e9b3', '9116c65d75343f5ac19f27b2eb8b1b447855e2ba', 'b1ad477696f5817f7cb9eaf1d13e102349236597', 'b919f662b26957782fa1ea3543438edf53489ec7', '2f33a2101e99fbdd7e6af490e2934c940cf9ac44', 'c7115319adfc1442867137d4f72477276abeab7f', 'cebf140abc6ea32caab364308509d810d378a5c9', '974ed1d7e1b2253787987a36a40ea6e74f893238', 'ade7610512d54d4d293d2d3513b6ce4383d814d2', 'c3b6e45a3636fd64031cc81e367de1a4936d55c7', '8ab12a0531093fb7180cbc53cf6466fc913370e9', '9e02b9e44467fbe8fdca3c5724cba7cb34d55a1b', '1863515614d380dc36ae8395201bded180fa319a', '41755b4067589013a525cc41d52a297315c5687f', 'd557c5cc1969024b6d8d52aa59070f8dbafcd3ee', 'c1329a0da27e6ee4b09e570a71312111d4f0189c', '5e92a6b3f0750849799d3158d3708dc0277dd3c8', '15eba1afd6665bec9e2aeb91bf457e7022dd7ce1', 'e7703a9b456827fb8eef1229729d82b3f36954b3', '87c3ca32d1f6d7ccd66a1288b4ecc60b74983867', '246454a0f88f45cbadfd7eb91816446ff9bae64a', '160214b4095ecf801fd94ca787f86745413ac6f2', '412bb747dadef609cc18f9c85ce20314d32c69d3', 'cc45858766c435473f6467ad60d3dd450aa1b561', 'b8a378e53e8510ca8bde97a68ce3874417505e7d', '85650cebb4809c45f2c8ea4a875b25f74eb379d9', '12789b3b67efc997897d019fff50e226357ebbfd', 'c9a6232343943de241f9601eeb175edaa838ea77', '81934cc1c1ae24d0282cd3bf958a0099d68afcf5', '708ae260f8ec276eae688a3f07d1eb0557d3c75b', 'e9386646b38437c20cc3a51344c11de824710602', '9f4465fe605395b5886bb9553f2d6212663c5fdd', '5fd03ca1ac65e79717cef5b40fcaf35f1af764c0', 'bd51142252349f35b2f2b0545065249936552a2a', '6c7fd2fe7f98965b85b3bd7b307604113a58f4ea', 'a9d6ce4fc59a838096b814006a054e36a411ba26', '0125127617030cb2793e6944075d99046123c37e', '145387ed057da1d9bd8db3c9a893c9eadb4829e5', '6dc2ff26ee6c8b2e1aca0dd44c2934b76fc10d36', '1d62af35f464576c1c10c832ee8c4c8dc7add9a9', '5b41e40f3cee5cd8ee117020be3ff5ed8ab1d838', '7524ceadea68fb646c0c4c2beb22e845df93e5e5', '99a60b92c7cf55d3adeda1d9cb52c61f8b44eb61', '78a03024dced3713816d64460a1d4edb6dbc8851', '5b731f7a13c30a6bffcb563e521141b6dce6e4b4', '5365d85fadd3407fba080461600a2df81ca76ea1', 'b4185d8d91457e5aa959c14610d351ad00c9b37f', 'aabb69c1fcb4beab8a9a3eb4a407bbb93d098b49', '85fa923067c8c77b348323ef0e83ce74ec0c0cc3', '3425eb15156c66c2e5adda930045a0abc97226a5', 'd236efdb5a7283fefb8bb462a1111b91c9fe4e3f', 'b574b2147acac5880b205b7a4aa71e0d91a81632', '7a14d7c80e45ca6ce563d131363512d9c29e167e', 'af19bd0ec96cc1e98e54bcf3b83d19920a4190db', 'af54ada7e2c059f03b6e2f99dd9da8c15cd68123', '12805d75c7941c40559af600aa9b7978e66a6e46', 'd692a0009413452d79ecd25690194bf753e9beaa', 'ae9ea883c8a67dc27a07267c150100a0e71ddf5f', '97095433e21ccdafd3d2a6874759c0d3deb3011e', 'b6a0f5ed92c569e00ad3d55ebc23c7397c95ac9b', '6f5495f50e5edc993dce53a76ef2e2553e18e323', 'f302d58c786bb71ca57c00c3dee8aa6a1fb76a71', 'ce42218802159de50e42a59781e9d7b586700709', '19d6ebd8c8a622d1b0115c63bee06523792215b5', '27e9fd303f705ff80de7941de5c9eb796a3dd566', 'a0001680c2487cf92ac9345bd707f414fd96a3a1', '80fccd4822b608e833bd94c04dc56acfaa828e0d', '4cd8fae16ee2f6e32ba591f204e2ecbf0835bd34', 'aacb50ca088d48325f2609390adced27f2ca0027', '58ea7b11bae17385192c890b35904fd7102acd7e', '8a7c9a05c62efde14adca3e874087c0b3efa6669', '6664a7565fb29d43d9808026d06c16941b6ac708', 'ec13ea0b2c6a4acd2c2f6f9ed9537f7c40a0f87b', 'fa5bcaea72c39370e973cb7c79f32eadc6bb96a5', '45e07746b96d1e457e242f4eb4935424277f2688', 'f041a5ffbb7b32ba5111876090562c01e86cc6f1', '613cb727de68203ca854cf4945466706f0a94a58', '4d51fbcc87703e3637849945ac9c6b88e8f6bd23', 'bae994cd22cf5c58512a6c92748ba3a7a908aaf8', 'c4d3ac4765b9faa5c6f8356bf58d1b6ea6a8152d', '4dd7de02daf950801dc61a643f889161013bb9b8', 'edeca5c73419dd3356c3170fda21413593e1eb4b', '2062d291a33ee10a270ff9ed35e6ced054b6dfc3', 'adb3f4541b3c13ba99629c0bcf7d15c76c6d8739', 'b1fac841c888bd4ef39620b3a9076dbf624e7550', ... ]"
      ]
     },
     "execution_count": 36,
     "metadata": {},
     "output_type": "execute_result"
    }
   ],
   "source": [
    "df1['user_id'].unique()"
   ]
  },
  {
   "cell_type": "code",
   "execution_count": 37,
   "metadata": {
    "collapsed": false
   },
   "outputs": [
    {
     "ename": "TypeError",
     "evalue": "sort() takes at least 2 arguments (1 given)",
     "output_type": "error",
     "traceback": [
      "\u001b[1;31m---------------------------------------------------------------------------\u001b[0m",
      "\u001b[1;31mTypeError\u001b[0m                                 Traceback (most recent call last)",
      "\u001b[1;32m<ipython-input-37-d5243200f1d2>\u001b[0m in \u001b[0;36m<module>\u001b[1;34m()\u001b[0m\n\u001b[1;32m----> 1\u001b[1;33m \u001b[0msong_data\u001b[0m\u001b[1;33m.\u001b[0m\u001b[0mgroupby\u001b[0m\u001b[1;33m(\u001b[0m\u001b[0mkey_columns\u001b[0m\u001b[1;33m=\u001b[0m\u001b[1;34m'artist'\u001b[0m\u001b[1;33m,\u001b[0m \u001b[0moperations\u001b[0m\u001b[1;33m=\u001b[0m\u001b[1;33m{\u001b[0m\u001b[1;34m'total_count'\u001b[0m\u001b[1;33m:\u001b[0m \u001b[0mgraphlab\u001b[0m\u001b[1;33m.\u001b[0m\u001b[0maggregate\u001b[0m\u001b[1;33m.\u001b[0m\u001b[0mSUM\u001b[0m\u001b[1;33m(\u001b[0m\u001b[1;34m'listen_count'\u001b[0m\u001b[1;33m)\u001b[0m\u001b[1;33m}\u001b[0m\u001b[1;33m)\u001b[0m\u001b[1;33m.\u001b[0m\u001b[0msort\u001b[0m\u001b[1;33m(\u001b[0m\u001b[1;33m)\u001b[0m\u001b[1;33m\u001b[0m\u001b[0m\n\u001b[0m",
      "\u001b[1;31mTypeError\u001b[0m: sort() takes at least 2 arguments (1 given)"
     ]
    }
   ],
   "source": [
    "song_data.groupby(key_columns='artist', operations={'total_count': graphlab.aggregate.SUM('listen_count')})"
   ]
  }
 ],
 "metadata": {
  "kernelspec": {
   "display_name": "Python 2",
   "language": "python",
   "name": "python2"
  },
  "language_info": {
   "codemirror_mode": {
    "name": "ipython",
    "version": 2
   },
   "file_extension": ".py",
   "mimetype": "text/x-python",
   "name": "python",
   "nbconvert_exporter": "python",
   "pygments_lexer": "ipython2",
   "version": "2.7.11"
  }
 },
 "nbformat": 4,
 "nbformat_minor": 0
}
